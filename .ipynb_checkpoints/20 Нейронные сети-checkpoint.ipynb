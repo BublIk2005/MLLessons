{
 "cells": [
  {
   "cell_type": "code",
   "execution_count": 7,
   "id": "7ca16571",
   "metadata": {},
   "outputs": [
    {
     "name": "stdout",
     "output_type": "stream",
     "text": [
      "Package                           Version\n",
      "--------------------------------- -----------\n",
      "anyio                             3.6.2\n",
      "appnope                           0.1.3\n",
      "argon2-cffi                       21.3.0\n",
      "argon2-cffi-bindings              21.2.0\n",
      "arrow                             1.2.3\n",
      "asgiref                           3.6.0\n",
      "asttokens                         2.2.1\n",
      "attrs                             22.2.0\n",
      "backcall                          0.2.0\n",
      "beautifulsoup4                    4.11.2\n",
      "bleach                            6.0.0\n",
      "certifi                           2022.12.7\n",
      "cffi                              1.15.1\n",
      "charset-normalizer                3.0.1\n",
      "click                             8.1.3\n",
      "comm                              0.1.2\n",
      "contourpy                         1.0.7\n",
      "cvxopt                            1.3.0\n",
      "cvxopt                            1.3.0\n",
      "cvxpy                             1.3.0\n",
      "cycler                            0.11.0\n",
      "debugpy                           1.6.6\n",
      "decorator                         5.1.1\n",
      "defusedxml                        0.7.1\n",
      "Django                            4.2.1\n",
      "ecos                              2.0.12\n",
      "et-xmlfile                        1.1.0\n",
      "executing                         1.2.0\n",
      "fancyimpute                       0.7.0\n",
      "fastjsonschema                    2.16.2\n",
      "fonttools                         4.38.0\n",
      "fqdn                              1.5.1\n",
      "gls                               1.0.0\n",
      "graphviz                          0.20.1\n",
      "idna                              3.4\n",
      "iniconfig                         2.0.0\n",
      "ipykernel                         6.21.2\n",
      "ipython                           8.10.0\n",
      "ipython-genutils                  0.2.0\n",
      "ipywidgets                        8.0.4\n",
      "isoduration                       20.11.0\n",
      "jedi                              0.18.2\n",
      "Jinja2                            3.1.2\n",
      "joblib                            1.2.0\n",
      "jsonpointer                       2.3\n",
      "jsonschema                        4.17.3\n",
      "jupyter                           1.0.0\n",
      "jupyter_client                    8.0.3\n",
      "jupyter-console                   6.5.1\n",
      "jupyter-contrib-core              0.4.2\n",
      "jupyter-contrib-nbextensions      0.7.0\n",
      "jupyter_core                      5.2.0\n",
      "jupyter-events                    0.6.3\n",
      "jupyter-highlight-selected-word   0.2.0\n",
      "jupyter-nbextensions-configurator 0.6.1\n",
      "jupyter_server                    2.3.0\n",
      "jupyter_server_terminals          0.4.4\n",
      "jupyterlab-pygments               0.2.2\n",
      "jupyterlab-widgets                3.0.5\n",
      "keras                             2.13.1\n",
      "kiwisolver                        1.4.4\n",
      "knnimpute                         0.1.0\n",
      "lxml                              4.9.2\n",
      "MarkupSafe                        2.1.2\n",
      "matplotlib                        3.7.0\n",
      "matplotlib-inline                 0.1.6\n",
      "mistune                           2.0.5\n",
      "nbclassic                         0.5.2\n",
      "nbclient                          0.7.2\n",
      "nbconvert                         7.2.9\n",
      "nbformat                          5.7.3\n",
      "nest-asyncio                      1.5.6\n",
      "nltk                              3.8.1\n",
      "nose                              1.3.7\n",
      "notebook                          6.5.2\n",
      "notebook_shim                     0.2.2\n",
      "numpy                             1.24.2\n",
      "opencv-python                     4.7.0.72\n",
      "openpyxl                          3.1.1\n",
      "osqp                              0.6.2.post8\n",
      "packaging                         23.0\n",
      "pandas                            1.5.3\n",
      "pandocfilters                     1.5.0\n",
      "parso                             0.8.3\n",
      "pexpect                           4.8.0\n",
      "pickleshare                       0.7.5\n",
      "Pillow                            9.4.0\n",
      "pip                               23.1.2\n",
      "platformdirs                      3.0.0\n",
      "pluggy                            1.0.0\n",
      "prometheus-client                 0.16.0\n",
      "prompt-toolkit                    3.0.36\n",
      "psutil                            5.9.4\n",
      "ptyprocess                        0.7.0\n",
      "pure-eval                         0.2.2\n",
      "pybind11                          2.10.3\n",
      "pycparser                         2.21\n",
      "pydotplus                         2.0.2\n",
      "Pygments                          2.14.0\n",
      "pyparsing                         3.0.9\n",
      "pyrsistent                        0.19.3\n",
      "pytest                            7.2.2\n",
      "python-dateutil                   2.8.2\n",
      "python-json-logger                2.0.6\n",
      "pytz                              2022.7.1\n",
      "PyYAML                            6.0\n",
      "pyzmq                             25.0.0\n",
      "qdldl                             0.1.5.post3\n",
      "qtconsole                         5.4.0\n",
      "QtPy                              2.3.0\n",
      "regex                             2023.3.23\n",
      "requests                          2.28.2\n",
      "rfc3339-validator                 0.1.4\n",
      "rfc3986-validator                 0.1.1\n",
      "scikit-learn                      1.2.2\n",
      "scikit-umfpack                    0.3.3\n",
      "scipy                             1.10.1\n",
      "scs                               3.2.2\n",
      "seaborn                           0.12.2\n",
      "Send2Trash                        1.8.0\n",
      "setuptools                        64.0.2\n",
      "six                               1.16.0\n",
      "sniffio                           1.3.0\n",
      "soupsieve                         2.4\n",
      "SQLAlchemy                        2.0.4\n",
      "sqlparse                          0.4.4\n",
      "stack-data                        0.6.2\n",
      "terminado                         0.17.1\n",
      "threadpoolctl                     3.1.0\n",
      "tinycss2                          1.2.1\n",
      "tornado                           6.2\n",
      "tqdm                              4.65.0\n",
      "traitlets                         5.9.0\n",
      "typing_extensions                 4.5.0\n",
      "uri-template                      1.2.0\n",
      "urllib3                           1.26.14\n",
      "wcwidth                           0.2.6\n",
      "webcolors                         1.12\n",
      "webencodings                      0.5.1\n",
      "websocket-client                  1.5.1\n",
      "wheel                             0.40.0\n",
      "widgetsnbextension                4.0.5\n"
     ]
    }
   ],
   "source": [
    "%%bash\n",
    "pip3 list"
   ]
  },
  {
   "cell_type": "code",
   "execution_count": 4,
   "id": "1be4cd27",
   "metadata": {
    "scrolled": true
   },
   "outputs": [
    {
     "name": "stdout",
     "output_type": "stream",
     "text": [
      "Requirement already satisfied: pip in /Library/Frameworks/Python.framework/Versions/3.11/lib/python3.11/site-packages (23.0.1)\n",
      "Collecting pip\n",
      "  Downloading pip-23.1.2-py3-none-any.whl (2.1 MB)\n",
      "\u001b[2K     \u001b[90m━━━━━━━━━━━━━━━━━━━━━━━━━━━━━━━━━━━━━━━━\u001b[0m \u001b[32m2.1/2.1 MB\u001b[0m \u001b[31m3.3 MB/s\u001b[0m eta \u001b[36m0:00:00\u001b[0m00:01\u001b[0m00:01\u001b[0m\n",
      "\u001b[?25hInstalling collected packages: pip\n",
      "  Attempting uninstall: pip\n",
      "    Found existing installation: pip 23.0.1\n",
      "    Uninstalling pip-23.0.1:\n",
      "      Successfully uninstalled pip-23.0.1\n",
      "Successfully installed pip-23.1.2\n"
     ]
    }
   ],
   "source": [
    "%%bash\n",
    "pip3 install --upgrade pip"
   ]
  },
  {
   "cell_type": "code",
   "execution_count": 6,
   "id": "0c4a5937",
   "metadata": {},
   "outputs": [
    {
     "name": "stdout",
     "output_type": "stream",
     "text": [
      "Collecting keras\n",
      "  Downloading keras-2.13.1-py3-none-any.whl (1.7 MB)\n",
      "\u001b[2K     ━━━━━━━━━━━━━━━━━━━━━━━━━━━━━━━━━━━━━━━━ 1.7/1.7 MB 2.3 MB/s eta 0:00:00\n",
      "\u001b[?25hInstalling collected packages: keras\n",
      "Successfully installed keras-2.13.1\n"
     ]
    }
   ],
   "source": [
    "%%bash\n",
    "pip3 install keras"
   ]
  },
  {
   "cell_type": "code",
   "execution_count": 9,
   "id": "2698865d",
   "metadata": {},
   "outputs": [
    {
     "name": "stdout",
     "output_type": "stream",
     "text": [
      "Collecting tensorflow\n",
      "  Downloading tensorflow-2.13.0-cp311-cp311-macosx_12_0_arm64.whl (1.9 kB)\n",
      "Collecting tensorflow-macos==2.13.0 (from tensorflow)\n",
      "  Downloading tensorflow_macos-2.13.0-cp311-cp311-macosx_12_0_arm64.whl (189.3 MB)\n"
     ]
    },
    {
     "name": "stderr",
     "output_type": "stream",
     "text": [
      "Task exception was never retrieved\n",
      "future: <Task finished name='Task-32' coro=<ScriptMagics.shebang.<locals>._handle_stream() done, defined at /Library/Frameworks/Python.framework/Versions/3.11/lib/python3.11/site-packages/IPython/core/magics/script.py:211> exception=ValueError('Separator is not found, and chunk exceed the limit')>\n",
      "Traceback (most recent call last):\n",
      "  File \"/Library/Frameworks/Python.framework/Versions/3.11/lib/python3.11/asyncio/streams.py\", line 545, in readline\n",
      "    line = await self.readuntil(sep)\n",
      "           ^^^^^^^^^^^^^^^^^^^^^^^^^\n",
      "  File \"/Library/Frameworks/Python.framework/Versions/3.11/lib/python3.11/asyncio/streams.py\", line 623, in readuntil\n",
      "    raise exceptions.LimitOverrunError(\n",
      "asyncio.exceptions.LimitOverrunError: Separator is not found, and chunk exceed the limit\n",
      "\n",
      "During handling of the above exception, another exception occurred:\n",
      "\n",
      "Traceback (most recent call last):\n",
      "  File \"/Library/Frameworks/Python.framework/Versions/3.11/lib/python3.11/site-packages/IPython/core/magics/script.py\", line 213, in _handle_stream\n",
      "    line = (await stream.readline()).decode(\"utf8\", errors=\"replace\")\n",
      "            ^^^^^^^^^^^^^^^^^^^^^^^\n",
      "  File \"/Library/Frameworks/Python.framework/Versions/3.11/lib/python3.11/asyncio/streams.py\", line 554, in readline\n",
      "    raise ValueError(e.args[0])\n",
      "ValueError: Separator is not found, and chunk exceed the limit\n"
     ]
    }
   ],
   "source": [
    "%%bash\n",
    "pip3 install tensorflow\n"
   ]
  },
  {
   "cell_type": "markdown",
   "id": "fd8857cf",
   "metadata": {},
   "source": [
    "## Проектирование нейронной сети"
   ]
  },
  {
   "cell_type": "code",
   "execution_count": 14,
   "id": "8a96fd0b",
   "metadata": {},
   "outputs": [],
   "source": [
    "from keras import models\n",
    "from keras import layers\n",
    "\n",
    "# Инициализировать нейронную сеть\n",
    "network = models.Sequential()\n",
    "\n",
    "# Добавить полносвязный слой с активационной функцией ReLU\n",
    "network.add(layers.Dense(units=16, activation='relu', input_shape=(10,)))\n",
    "\n",
    "# Добавить полносвязный слой с активационной функцией ReLU\n",
    "network.add(layers.Dense(units=16, activation='relu'))\n",
    "\n",
    "# Добавить полносвязный слой с сигмодальной активационной функцией\n",
    "network.add(layers.Dense(units=1, activation='sigmoid'))\n",
    "\n",
    "# скомпилировать нейронную сеть\n",
    "network.compile(\n",
    "loss='binary_crossentropy', # Перекрестная энтропия\n",
    "optimizer='rmsprop', # Распространение среднеквадратической ошибки\n",
    "metrics=[\"accuracy\"]) # Точностный показатель результативности"
   ]
  },
  {
   "cell_type": "markdown",
   "id": "b83b6a2c",
   "metadata": {},
   "source": [
    "## Тренировка бинарного классификатора"
   ]
  },
  {
   "cell_type": "code",
   "execution_count": 17,
   "id": "82434670",
   "metadata": {},
   "outputs": [],
   "source": [
    "import requests\n",
    "requests.packages.urllib3.disable_warnings()\n",
    "import ssl\n",
    "\n",
    "try:\n",
    "    _create_unverified_https_context = ssl._create_unverified_context\n",
    "except AttributeError:\n",
    "    # Legacy Python that doesn't verify HTTPS certificates by default\n",
    "    pass\n",
    "else:\n",
    "    # Handle target environment that doesn't support HTTPS verification\n",
    "    ssl._create_default_https_context = _create_unverified_https_context"
   ]
  },
  {
   "cell_type": "code",
   "execution_count": 20,
   "id": "0cdb0d66",
   "metadata": {},
   "outputs": [
    {
     "name": "stdout",
     "output_type": "stream",
     "text": [
      "Epoch 1/3\n",
      "250/250 [==============================] - 1s 2ms/step - loss: 0.4228 - accuracy: 0.8139 - val_loss: 0.3366 - val_accuracy: 0.8580\n",
      "Epoch 2/3\n",
      "250/250 [==============================] - 0s 985us/step - loss: 0.3239 - accuracy: 0.8646 - val_loss: 0.3280 - val_accuracy: 0.8616\n",
      "Epoch 3/3\n",
      "250/250 [==============================] - 0s 980us/step - loss: 0.3133 - accuracy: 0.8680 - val_loss: 0.3290 - val_accuracy: 0.8593\n"
     ]
    }
   ],
   "source": [
    "# Требуется натренировать бинарно-классификационную нейронную сеть\n",
    "import numpy as np\n",
    "from keras.datasets import imdb\n",
    "from keras.preprocessing.text import Tokenizer\n",
    "from keras import models\n",
    "from keras import layers\n",
    "\n",
    "\n",
    "# Задать начально значение для гениратора псевдослучайных чисел\n",
    "np.random.seed(0)\n",
    "\n",
    "# Задать желаемое количество признаков\n",
    "number_of_features = 1000\n",
    "\n",
    "# Загрузить данные и вектор целей из данных с отзывами о кинофильмах\n",
    "(data_train, target_train), (data_test, target_test) = imdb.load_data(\n",
    "                                                            num_words=number_of_features)\n",
    "# Конвертировать данные с отзывами о кинофильмах\n",
    "# в матрицу признаков в кодировке с одним активным состоянием\n",
    "tokenizer = Tokenizer(num_words=number_of_features)\n",
    "features_train = tokenizer.sequences_to_matrix(data_train, mode=\"binary\")\n",
    "features_test = tokenizer.sequences_to_matrix(data_test, mode = \"binary\")\n",
    "\n",
    "# Инициализировать нейронную сеть\n",
    "network = models.Sequential()\n",
    "\n",
    "# Добавить полносвязный слой с активационной функцией ReLU\n",
    "network.add(layers.Dense(units=16, activation=\"relu\",\n",
    "                        input_shape = (number_of_features,)))\n",
    "\n",
    "# Добавить полносвязный слой с активационной функцией ReLU\n",
    "network.add(layers.Dense(units=16, activation=\"relu\"))\n",
    "\n",
    "# Добавить полносвязный слой с сигмоидальной активационной функцией\n",
    "network.add(layers.Dense(units=1, activation=\"sigmoid\"))\n",
    "\n",
    "# Скомпилировать нейронную сеть\n",
    "network.compile(\n",
    "loss=\"binary_crossentropy\", # Перекрестная энтропия\n",
    "optimizer=\"rmsprop\", # Распространение среднеквадратической ошибки\n",
    "metrics=[\"accuracy\"] # Точностный показатель результативности\n",
    ")\n",
    "\n",
    "# Натренировать нейронную сеть\n",
    "history = network.fit(\n",
    "features_train, # Признаки\n",
    "target_train, # Вектор целей\n",
    "epochs=3, # Количество эпох\n",
    "verbose=1, # Печатать описание после каждой эпохи\n",
    "batch_size=100, # Количество наблюдений на пакет\n",
    "validation_data=(features_test, target_test)) # Тестовые данные"
   ]
  },
  {
   "cell_type": "code",
   "execution_count": 22,
   "id": "e2b63e5d",
   "metadata": {},
   "outputs": [
    {
     "data": {
      "text/plain": [
       "(25000, 1000)"
      ]
     },
     "execution_count": 22,
     "metadata": {},
     "output_type": "execute_result"
    }
   ],
   "source": [
    "features_train.shape"
   ]
  },
  {
   "cell_type": "markdown",
   "id": "eacd8c99",
   "metadata": {},
   "source": [
    "## Тренировка мультиклассового классификатора"
   ]
  },
  {
   "cell_type": "code",
   "execution_count": 26,
   "id": "52a844c3",
   "metadata": {},
   "outputs": [
    {
     "name": "stdout",
     "output_type": "stream",
     "text": [
      "Epoch 1/3\n",
      "90/90 - 0s - loss: 1.5263 - accuracy: 0.6755 - val_loss: 1.1214 - val_accuracy: 0.7507 - 495ms/epoch - 6ms/step\n",
      "Epoch 2/3\n",
      "90/90 - 0s - loss: 0.7930 - accuracy: 0.8209 - val_loss: 0.9251 - val_accuracy: 0.7876 - 259ms/epoch - 3ms/step\n",
      "Epoch 3/3\n",
      "90/90 - 0s - loss: 0.5058 - accuracy: 0.8887 - val_loss: 0.8903 - val_accuracy: 0.8019 - 260ms/epoch - 3ms/step\n"
     ]
    }
   ],
   "source": [
    "# Требуется натренировать мультиклассовую классификационную нейроную сеть\n",
    "import numpy as np\n",
    "from keras.datasets import reuters\n",
    "from keras.utils import to_categorical\n",
    "from keras.preprocessing.text import Tokenizer\n",
    "from keras import models\n",
    "from keras import layers\n",
    "\n",
    "np.random.seed(0)\n",
    "\n",
    "number_of_features = 5000\n",
    "\n",
    "data = reuters.load_data(num_words=number_of_features)\n",
    "(data_train, target_vector_train), (data_test, target_vector_test) = data\n",
    "\n",
    "# Конвертировать признаковые данные \n",
    "# в матрицу признаков в кодировке с одним активным состоянием\n",
    "tokenizer = Tokenizer(num_words=number_of_features)\n",
    "features_train = tokenizer.sequences_to_matrix(data_train, mode=\"binary\")\n",
    "features_test = tokenizer.sequences_to_matrix(data_test, mode=\"binary\")\n",
    "\n",
    "# Преобразовать вектор целей в кодировке с одним активным состоянием,\n",
    "# чтобы создать матрицу целей\n",
    "target_train = to_categorical(target_vector_train)\n",
    "target_test = to_categorical(target_vector_test)\n",
    "\n",
    "# Инициализировать нейронную сеть\n",
    "network = models.Sequential()\n",
    "\n",
    "# Добавить полносвязный слой с активационной функцией ReLU\n",
    "network.add(layers.Dense(\n",
    "units=100,\n",
    "activation=\"relu\",\n",
    "input_shape=(number_of_features,)\n",
    "))\n",
    "\n",
    "# Добавить полносвязный слой с активационной функцией ReLU\n",
    "network.add(layers.Dense(\n",
    "units=100,\n",
    "activation=\"relu\"))\n",
    "\n",
    "# Добавить полносвязный слой с активационной функцией softmax\n",
    "network.add(layers.Dense(units=46, activation=\"softmax\"))\n",
    "\n",
    "# Скомпилировать нейронную сеть\n",
    "network.compile(\n",
    "loss=\"categorical_crossentropy\", # Перекрестная энтропия\n",
    "optimizer=\"rmsprop\", # Распространение СКО\n",
    "metrics=[\"accuracy\"] # Точностный показатель результативности\n",
    ")\n",
    "\n",
    "# Натренировать нейронную сеть\n",
    "history = network.fit(\n",
    "features_train,\n",
    "target_train,\n",
    "epochs=3,\n",
    "verbose=2,\n",
    "batch_size=100,\n",
    "validation_data=(features_test, target_test))"
   ]
  },
  {
   "cell_type": "code",
   "execution_count": null,
   "id": "265f9827",
   "metadata": {},
   "outputs": [],
   "source": []
  },
  {
   "cell_type": "code",
   "execution_count": null,
   "id": "3c298151",
   "metadata": {},
   "outputs": [],
   "source": []
  },
  {
   "cell_type": "code",
   "execution_count": null,
   "id": "fe696a77",
   "metadata": {},
   "outputs": [],
   "source": []
  },
  {
   "cell_type": "code",
   "execution_count": null,
   "id": "9a283ea0",
   "metadata": {},
   "outputs": [],
   "source": []
  },
  {
   "cell_type": "code",
   "execution_count": null,
   "id": "32db1471",
   "metadata": {},
   "outputs": [],
   "source": []
  },
  {
   "cell_type": "code",
   "execution_count": null,
   "id": "284de082",
   "metadata": {},
   "outputs": [],
   "source": []
  }
 ],
 "metadata": {
  "kernelspec": {
   "display_name": "Python 3 (ipykernel)",
   "language": "python",
   "name": "python3"
  },
  "language_info": {
   "codemirror_mode": {
    "name": "ipython",
    "version": 3
   },
   "file_extension": ".py",
   "mimetype": "text/x-python",
   "name": "python",
   "nbconvert_exporter": "python",
   "pygments_lexer": "ipython3",
   "version": "3.11.2"
  },
  "varInspector": {
   "cols": {
    "lenName": 16,
    "lenType": 16,
    "lenVar": 40
   },
   "kernels_config": {
    "python": {
     "delete_cmd_postfix": "",
     "delete_cmd_prefix": "del ",
     "library": "var_list.py",
     "varRefreshCmd": "print(var_dic_list())"
    },
    "r": {
     "delete_cmd_postfix": ") ",
     "delete_cmd_prefix": "rm(",
     "library": "var_list.r",
     "varRefreshCmd": "cat(var_dic_list()) "
    }
   },
   "types_to_exclude": [
    "module",
    "function",
    "builtin_function_or_method",
    "instance",
    "_Feature"
   ],
   "window_display": false
  }
 },
 "nbformat": 4,
 "nbformat_minor": 5
}
