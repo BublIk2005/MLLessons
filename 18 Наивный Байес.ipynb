{
 "cells": [
  {
   "cell_type": "markdown",
   "id": "a3d74b34",
   "metadata": {},
   "source": [
    "## Тренировка классификатора для непрерывных признаков\n"
   ]
  },
  {
   "cell_type": "code",
   "execution_count": 1,
   "id": "12159aaf",
   "metadata": {},
   "outputs": [],
   "source": [
    "# Даны только непрерывные признаки, и требуется натренировать наивный байесов классификатор\n",
    "\n",
    "\n",
    "from sklearn import datasets\n",
    "from sklearn.naive_bayes import GaussianNB\n",
    "\n",
    "iris = datasets.load_iris()\n",
    "features = iris.data\n",
    "target = iris.target\n",
    "\n",
    "classifier = GaussianNB()\n",
    "\n",
    "model=classifier.fit(features, target)"
   ]
  },
  {
   "cell_type": "code",
   "execution_count": 2,
   "id": "e0443acb",
   "metadata": {},
   "outputs": [
    {
     "data": {
      "text/plain": [
       "array([1])"
      ]
     },
     "execution_count": 2,
     "metadata": {},
     "output_type": "execute_result"
    }
   ],
   "source": [
    "new_observation = [[4,4,4,0.4]]\n",
    "\n",
    "model.predict(new_observation)"
   ]
  },
  {
   "cell_type": "code",
   "execution_count": 3,
   "id": "dfd0ae0e",
   "metadata": {},
   "outputs": [],
   "source": [
    "#Создать объект гауссова наивного Байеса\n",
    "#с априорными вероятностями для каждого класса\n",
    "clf = GaussianNB(priors=[0.25,0.25,0.5])\n",
    "\n",
    "model = clf.fit(features, target)"
   ]
  },
  {
   "cell_type": "markdown",
   "id": "5747cbec",
   "metadata": {},
   "source": [
    "## Тренировка классификатора для дискретных и счетных признаков "
   ]
  },
  {
   "cell_type": "code",
   "execution_count": 6,
   "id": "4168e08a",
   "metadata": {},
   "outputs": [],
   "source": [
    "import numpy as np\n",
    "from sklearn.naive_bayes import MultinomialNB\n",
    "from sklearn.feature_extraction.text import CountVectorizer\n",
    "\n",
    "text_data = np.array(['Бразилия - моя любовь. Бразилия!',\n",
    "                     'Бразилия - лучше',\n",
    "                     'Германия бьет обоих'])\n",
    "\n",
    "# Создать мешок слов\n",
    "count = CountVectorizer()\n",
    "bag_of_words = count.fit_transform(text_data)\n",
    "\n",
    "# Создать матрицу признаков\n",
    "features = bag_of_words.toarray()\n",
    "target = np.array([0,0,1])\n",
    "\n",
    "# СОздать объект полиноминального наивного байесова классификатора\n",
    "# с априорными вероятностями каждого класса\n",
    "classifier = MultinomialNB(class_prior=[0.25, 0.5])\n",
    "\n",
    "model = classifier.fit(features, target)"
   ]
  },
  {
   "cell_type": "markdown",
   "id": "2a8d62b3",
   "metadata": {},
   "source": [
    "## Тренировка наивного байесова классификатора для бинарных признаков"
   ]
  },
  {
   "cell_type": "code",
   "execution_count": 8,
   "id": "4357c2c5",
   "metadata": {},
   "outputs": [],
   "source": [
    "# Имеются двоичные признаковые данные, и требуется натренировать наивный байесов классификатор.\n",
    "import numpy as np\n",
    "from sklearn.naive_bayes import BernoulliNB\n",
    "\n",
    "features = np.random.randint(2, size=(100,3))\n",
    "\n",
    "target = np.random.randint(2, size=(100,1)).ravel()\n",
    "\n",
    "# Создать объект бернуллиева наивного Байеса\n",
    "# с априорными вероятностями каждого класса\n",
    "classifier = BernoulliNB(class_prior=[0.25, 0.5])\n",
    "\n",
    "model = classifier.fit(features, target)"
   ]
  },
  {
   "cell_type": "markdown",
   "id": "aed1a2cc",
   "metadata": {},
   "source": [
    "## Калибровка предсказанных вероятностей"
   ]
  },
  {
   "cell_type": "code",
   "execution_count": 11,
   "id": "d7607e0b",
   "metadata": {},
   "outputs": [
    {
     "data": {
      "text/plain": [
       "array([[0.31859969, 0.63663466, 0.04476565]])"
      ]
     },
     "execution_count": 11,
     "metadata": {},
     "output_type": "execute_result"
    }
   ],
   "source": [
    "# Требуется откалибровать предсказанные вероятности из наивных байесовых классификаторов, чтобы они были интерпритируемыми.\n",
    "from sklearn import datasets\n",
    "from sklearn.naive_bayes import GaussianNB\n",
    "from sklearn.calibration import CalibratedClassifierCV\n",
    "\n",
    "iris = datasets.load_iris()\n",
    "features = iris.data\n",
    "target = iris.target\n",
    "\n",
    "classifier = GaussianNB()\n",
    "\n",
    "classifier_sigmoid = CalibratedClassifierCV(classifier, cv=2,method='sigmoid')\n",
    "\n",
    "\n",
    "classifier_sigmoid.fit(features, target)\n",
    "\n",
    "new_observation = [[2.6,2.6,2.6,0.4]]\n",
    "\n",
    "classifier_sigmoid.predict_proba(new_observation)"
   ]
  },
  {
   "cell_type": "code",
   "execution_count": null,
   "id": "ed95aa5a",
   "metadata": {},
   "outputs": [],
   "source": []
  },
  {
   "cell_type": "code",
   "execution_count": null,
   "id": "9c537054",
   "metadata": {},
   "outputs": [],
   "source": []
  },
  {
   "cell_type": "code",
   "execution_count": null,
   "id": "1fa6b485",
   "metadata": {},
   "outputs": [],
   "source": []
  },
  {
   "cell_type": "code",
   "execution_count": null,
   "id": "f2524d8a",
   "metadata": {},
   "outputs": [],
   "source": []
  },
  {
   "cell_type": "code",
   "execution_count": null,
   "id": "40ec8c4f",
   "metadata": {},
   "outputs": [],
   "source": []
  },
  {
   "cell_type": "code",
   "execution_count": null,
   "id": "38ecc715",
   "metadata": {},
   "outputs": [],
   "source": []
  },
  {
   "cell_type": "code",
   "execution_count": null,
   "id": "44598612",
   "metadata": {},
   "outputs": [],
   "source": []
  },
  {
   "cell_type": "code",
   "execution_count": null,
   "id": "b6b83dfc",
   "metadata": {},
   "outputs": [],
   "source": []
  },
  {
   "cell_type": "code",
   "execution_count": null,
   "id": "c51790f4",
   "metadata": {},
   "outputs": [],
   "source": []
  }
 ],
 "metadata": {
  "kernelspec": {
   "display_name": "Python 3 (ipykernel)",
   "language": "python",
   "name": "python3"
  },
  "language_info": {
   "codemirror_mode": {
    "name": "ipython",
    "version": 3
   },
   "file_extension": ".py",
   "mimetype": "text/x-python",
   "name": "python",
   "nbconvert_exporter": "python",
   "pygments_lexer": "ipython3",
   "version": "3.11.2"
  },
  "varInspector": {
   "cols": {
    "lenName": 16,
    "lenType": 16,
    "lenVar": 40
   },
   "kernels_config": {
    "python": {
     "delete_cmd_postfix": "",
     "delete_cmd_prefix": "del ",
     "library": "var_list.py",
     "varRefreshCmd": "print(var_dic_list())"
    },
    "r": {
     "delete_cmd_postfix": ") ",
     "delete_cmd_prefix": "rm(",
     "library": "var_list.r",
     "varRefreshCmd": "cat(var_dic_list()) "
    }
   },
   "types_to_exclude": [
    "module",
    "function",
    "builtin_function_or_method",
    "instance",
    "_Feature"
   ],
   "window_display": false
  }
 },
 "nbformat": 4,
 "nbformat_minor": 5
}
