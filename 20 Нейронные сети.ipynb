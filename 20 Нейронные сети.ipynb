{
 "cells": [
  {
   "cell_type": "code",
   "execution_count": 7,
   "id": "7ca16571",
   "metadata": {},
   "outputs": [
    {
     "name": "stdout",
     "output_type": "stream",
     "text": [
      "Package                           Version\n",
      "--------------------------------- -----------\n",
      "anyio                             3.6.2\n",
      "appnope                           0.1.3\n",
      "argon2-cffi                       21.3.0\n",
      "argon2-cffi-bindings              21.2.0\n",
      "arrow                             1.2.3\n",
      "asgiref                           3.6.0\n",
      "asttokens                         2.2.1\n",
      "attrs                             22.2.0\n",
      "backcall                          0.2.0\n",
      "beautifulsoup4                    4.11.2\n",
      "bleach                            6.0.0\n",
      "certifi                           2022.12.7\n",
      "cffi                              1.15.1\n",
      "charset-normalizer                3.0.1\n",
      "click                             8.1.3\n",
      "comm                              0.1.2\n",
      "contourpy                         1.0.7\n",
      "cvxopt                            1.3.0\n",
      "cvxopt                            1.3.0\n",
      "cvxpy                             1.3.0\n",
      "cycler                            0.11.0\n",
      "debugpy                           1.6.6\n",
      "decorator                         5.1.1\n",
      "defusedxml                        0.7.1\n",
      "Django                            4.2.1\n",
      "ecos                              2.0.12\n",
      "et-xmlfile                        1.1.0\n",
      "executing                         1.2.0\n",
      "fancyimpute                       0.7.0\n",
      "fastjsonschema                    2.16.2\n",
      "fonttools                         4.38.0\n",
      "fqdn                              1.5.1\n",
      "gls                               1.0.0\n",
      "graphviz                          0.20.1\n",
      "idna                              3.4\n",
      "iniconfig                         2.0.0\n",
      "ipykernel                         6.21.2\n",
      "ipython                           8.10.0\n",
      "ipython-genutils                  0.2.0\n",
      "ipywidgets                        8.0.4\n",
      "isoduration                       20.11.0\n",
      "jedi                              0.18.2\n",
      "Jinja2                            3.1.2\n",
      "joblib                            1.2.0\n",
      "jsonpointer                       2.3\n",
      "jsonschema                        4.17.3\n",
      "jupyter                           1.0.0\n",
      "jupyter_client                    8.0.3\n",
      "jupyter-console                   6.5.1\n",
      "jupyter-contrib-core              0.4.2\n",
      "jupyter-contrib-nbextensions      0.7.0\n",
      "jupyter_core                      5.2.0\n",
      "jupyter-events                    0.6.3\n",
      "jupyter-highlight-selected-word   0.2.0\n",
      "jupyter-nbextensions-configurator 0.6.1\n",
      "jupyter_server                    2.3.0\n",
      "jupyter_server_terminals          0.4.4\n",
      "jupyterlab-pygments               0.2.2\n",
      "jupyterlab-widgets                3.0.5\n",
      "keras                             2.13.1\n",
      "kiwisolver                        1.4.4\n",
      "knnimpute                         0.1.0\n",
      "lxml                              4.9.2\n",
      "MarkupSafe                        2.1.2\n",
      "matplotlib                        3.7.0\n",
      "matplotlib-inline                 0.1.6\n",
      "mistune                           2.0.5\n",
      "nbclassic                         0.5.2\n",
      "nbclient                          0.7.2\n",
      "nbconvert                         7.2.9\n",
      "nbformat                          5.7.3\n",
      "nest-asyncio                      1.5.6\n",
      "nltk                              3.8.1\n",
      "nose                              1.3.7\n",
      "notebook                          6.5.2\n",
      "notebook_shim                     0.2.2\n",
      "numpy                             1.24.2\n",
      "opencv-python                     4.7.0.72\n",
      "openpyxl                          3.1.1\n",
      "osqp                              0.6.2.post8\n",
      "packaging                         23.0\n",
      "pandas                            1.5.3\n",
      "pandocfilters                     1.5.0\n",
      "parso                             0.8.3\n",
      "pexpect                           4.8.0\n",
      "pickleshare                       0.7.5\n",
      "Pillow                            9.4.0\n",
      "pip                               23.1.2\n",
      "platformdirs                      3.0.0\n",
      "pluggy                            1.0.0\n",
      "prometheus-client                 0.16.0\n",
      "prompt-toolkit                    3.0.36\n",
      "psutil                            5.9.4\n",
      "ptyprocess                        0.7.0\n",
      "pure-eval                         0.2.2\n",
      "pybind11                          2.10.3\n",
      "pycparser                         2.21\n",
      "pydotplus                         2.0.2\n",
      "Pygments                          2.14.0\n",
      "pyparsing                         3.0.9\n",
      "pyrsistent                        0.19.3\n",
      "pytest                            7.2.2\n",
      "python-dateutil                   2.8.2\n",
      "python-json-logger                2.0.6\n",
      "pytz                              2022.7.1\n",
      "PyYAML                            6.0\n",
      "pyzmq                             25.0.0\n",
      "qdldl                             0.1.5.post3\n",
      "qtconsole                         5.4.0\n",
      "QtPy                              2.3.0\n",
      "regex                             2023.3.23\n",
      "requests                          2.28.2\n",
      "rfc3339-validator                 0.1.4\n",
      "rfc3986-validator                 0.1.1\n",
      "scikit-learn                      1.2.2\n",
      "scikit-umfpack                    0.3.3\n",
      "scipy                             1.10.1\n",
      "scs                               3.2.2\n",
      "seaborn                           0.12.2\n",
      "Send2Trash                        1.8.0\n",
      "setuptools                        64.0.2\n",
      "six                               1.16.0\n",
      "sniffio                           1.3.0\n",
      "soupsieve                         2.4\n",
      "SQLAlchemy                        2.0.4\n",
      "sqlparse                          0.4.4\n",
      "stack-data                        0.6.2\n",
      "terminado                         0.17.1\n",
      "threadpoolctl                     3.1.0\n",
      "tinycss2                          1.2.1\n",
      "tornado                           6.2\n",
      "tqdm                              4.65.0\n",
      "traitlets                         5.9.0\n",
      "typing_extensions                 4.5.0\n",
      "uri-template                      1.2.0\n",
      "urllib3                           1.26.14\n",
      "wcwidth                           0.2.6\n",
      "webcolors                         1.12\n",
      "webencodings                      0.5.1\n",
      "websocket-client                  1.5.1\n",
      "wheel                             0.40.0\n",
      "widgetsnbextension                4.0.5\n"
     ]
    }
   ],
   "source": [
    "%%bash\n",
    "pip3 list"
   ]
  },
  {
   "cell_type": "code",
   "execution_count": 4,
   "id": "1be4cd27",
   "metadata": {
    "scrolled": true
   },
   "outputs": [
    {
     "name": "stdout",
     "output_type": "stream",
     "text": [
      "Requirement already satisfied: pip in /Library/Frameworks/Python.framework/Versions/3.11/lib/python3.11/site-packages (23.0.1)\n",
      "Collecting pip\n",
      "  Downloading pip-23.1.2-py3-none-any.whl (2.1 MB)\n",
      "\u001b[2K     \u001b[90m━━━━━━━━━━━━━━━━━━━━━━━━━━━━━━━━━━━━━━━━\u001b[0m \u001b[32m2.1/2.1 MB\u001b[0m \u001b[31m3.3 MB/s\u001b[0m eta \u001b[36m0:00:00\u001b[0m00:01\u001b[0m00:01\u001b[0m\n",
      "\u001b[?25hInstalling collected packages: pip\n",
      "  Attempting uninstall: pip\n",
      "    Found existing installation: pip 23.0.1\n",
      "    Uninstalling pip-23.0.1:\n",
      "      Successfully uninstalled pip-23.0.1\n",
      "Successfully installed pip-23.1.2\n"
     ]
    }
   ],
   "source": [
    "%%bash\n",
    "pip3 install --upgrade pip"
   ]
  },
  {
   "cell_type": "code",
   "execution_count": 6,
   "id": "0c4a5937",
   "metadata": {},
   "outputs": [
    {
     "name": "stdout",
     "output_type": "stream",
     "text": [
      "Collecting keras\n",
      "  Downloading keras-2.13.1-py3-none-any.whl (1.7 MB)\n",
      "\u001b[2K     ━━━━━━━━━━━━━━━━━━━━━━━━━━━━━━━━━━━━━━━━ 1.7/1.7 MB 2.3 MB/s eta 0:00:00\n",
      "\u001b[?25hInstalling collected packages: keras\n",
      "Successfully installed keras-2.13.1\n"
     ]
    }
   ],
   "source": [
    "%%bash\n",
    "pip3 install keras"
   ]
  },
  {
   "cell_type": "markdown",
   "id": "8c04c57f",
   "metadata": {},
   "source": [
    "## Проектирование нейронной сети"
   ]
  },
  {
   "cell_type": "code",
   "execution_count": null,
   "id": "8a96fd0b",
   "metadata": {},
   "outputs": [],
   "source": [
    "from keras import models\n",
    "from keras import layers\n",
    "\n",
    "# Инициализировать нейронную сеть\n",
    "network = models.Sequential()\n",
    "\n",
    "# Добавить полносвязный слой с активационной функцией ReLU\n",
    "network.add(layers.Dense(units=16, activation='relu', input_shapr=(10,)))\n",
    "\n",
    "# Добавить полносвязный слой с активационной функцией ReLU\n",
    "network.add(layers.Dense(units=16, activation='relu'))\n",
    "\n",
    "# Добавить полносвязный слой с сигмодальной активационной функцией\n",
    "network.add(layers.Dense(units=1, activation='sigmoid'))\n",
    "\n",
    "# скомпилировать нейронную сеть\n",
    "network.compile(\n",
    "loss='binary_crossentropy', # Перекрестная энтропия\n",
    "optimizer='rmsprop', # Распространение среднеквадратической ошибки\n",
    ")"
   ]
  },
  {
   "cell_type": "code",
   "execution_count": null,
   "id": "a71623c0",
   "metadata": {},
   "outputs": [],
   "source": []
  },
  {
   "cell_type": "code",
   "execution_count": null,
   "id": "0cdb0d66",
   "metadata": {},
   "outputs": [],
   "source": []
  }
 ],
 "metadata": {
  "kernelspec": {
   "display_name": "Python 3 (ipykernel)",
   "language": "python",
   "name": "python3"
  },
  "language_info": {
   "codemirror_mode": {
    "name": "ipython",
    "version": 3
   },
   "file_extension": ".py",
   "mimetype": "text/x-python",
   "name": "python",
   "nbconvert_exporter": "python",
   "pygments_lexer": "ipython3",
   "version": "3.11.2"
  },
  "varInspector": {
   "cols": {
    "lenName": 16,
    "lenType": 16,
    "lenVar": 40
   },
   "kernels_config": {
    "python": {
     "delete_cmd_postfix": "",
     "delete_cmd_prefix": "del ",
     "library": "var_list.py",
     "varRefreshCmd": "print(var_dic_list())"
    },
    "r": {
     "delete_cmd_postfix": ") ",
     "delete_cmd_prefix": "rm(",
     "library": "var_list.r",
     "varRefreshCmd": "cat(var_dic_list()) "
    }
   },
   "types_to_exclude": [
    "module",
    "function",
    "builtin_function_or_method",
    "instance",
    "_Feature"
   ],
   "window_display": false
  }
 },
 "nbformat": 4,
 "nbformat_minor": 5
}
